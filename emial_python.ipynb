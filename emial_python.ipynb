{
  "nbformat": 4,
  "nbformat_minor": 0,
  "metadata": {
    "colab": {
      "name": "emial_python.ipynb",
      "provenance": [],
      "collapsed_sections": [],
      "authorship_tag": "ABX9TyM6LMqOp+f643cwsovStcd8",
      "include_colab_link": true
    },
    "kernelspec": {
      "name": "python3",
      "display_name": "Python 3"
    },
    "language_info": {
      "name": "python"
    }
  },
  "cells": [
    {
      "cell_type": "markdown",
      "metadata": {
        "id": "view-in-github",
        "colab_type": "text"
      },
      "source": [
        "<a href=\"https://colab.research.google.com/github/Clalloures/100daysofcode/blob/master/emial_python.ipynb\" target=\"_parent\"><img src=\"https://colab.research.google.com/assets/colab-badge.svg\" alt=\"Open In Colab\"/></a>"
      ]
    },
    {
      "cell_type": "code",
      "metadata": {
        "id": "vxyOTsJcrA4M"
      },
      "source": [
        "import smtplib"
      ],
      "execution_count": 35,
      "outputs": []
    },
    {
      "cell_type": "code",
      "metadata": {
        "id": "6d1YjPFsrFAV"
      },
      "source": [
        "\n",
        "ENDERECO_EMAIL = \"seu_email_aqui@gmail.com\"\n",
        "SENHA_EMAIL = \"sua_senha_aqui\"\n",
        "EMAIL_DESTINATARIO = \"email_destinatario@gmail.com\"\n",
        "\n",
        "with smtplib.SMTP('smtp.gmail.com', 587) as enviarEmail:\n",
        "  enviarEmail.ehlo()\n",
        "  enviarEmail.starttls()\n",
        "  enviarEmail.ehlo()\n",
        "\n",
        "\n",
        "  enviarEmail.login(ENDERECO_EMAIL, SENHA_EMAIL)\n",
        "\n",
        "  mensagem = \"Escreva sua mensagem aqui!\"\n",
        "\n",
        "  enviarEmail.sendmail(ENDERECO_EMAIL, EMAIL_DESTINATARIO, mensagem)\n",
        "\n"
      ],
      "execution_count": null,
      "outputs": []
    }
  ]
}